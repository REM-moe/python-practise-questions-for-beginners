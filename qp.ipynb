{
  "nbformat": 4,
  "nbformat_minor": 0,
  "metadata": {
    "colab": {
      "provenance": []
    },
    "kernelspec": {
      "name": "python3",
      "display_name": "Python 3"
    },
    "language_info": {
      "name": "python"
    }
  },
  "cells": [
    {
      "cell_type": "markdown",
      "source": [
        "#ANSWERS"
      ],
      "metadata": {
        "id": "KqpqY4TTM292"
      }
    },
    {
      "cell_type": "markdown",
      "source": [
        "###Write the output of following Python code : S = “Computer”\n",
        "```python\n",
        "print(S[::2])\n",
        "print(S[::-1])\n",
        "print(S[:])\n"
      ],
      "metadata": {
        "id": "Gu6LAc_lM5JB"
      }
    },
    {
      "cell_type": "markdown",
      "source": [
        "cmue\n",
        "\n",
        "retupmoc\n",
        "\n",
        "computer"
      ],
      "metadata": {
        "id": "0d9IfN9BNbED"
      }
    },
    {
      "cell_type": "markdown",
      "source": [
        " Write a recursive function in Python to find GCD of two numbers.\n",
        "```python\n",
        "def  gcd(a,b):\n",
        "     if(b==0):\n",
        "        return a\n",
        "    else:\n",
        "        return gcd\n",
        "```"
      ],
      "metadata": {
        "id": "eyS7zU-gNlyD"
      }
    },
    {
      "cell_type": "markdown",
      "source": [
        "Write a recursive function in Python to find the factorial of a number.\n",
        "```python\n",
        "def factorial(n):\n",
        "   if n == 1:\n",
        "       return n\n",
        "   else:\n",
        "       return n*factorial(n-1)\n",
        "```"
      ],
      "metadata": {
        "id": "GE8t591FORgO"
      }
    },
    {
      "cell_type": "markdown",
      "source": [
        "1.Illustrate the use of negative indexing of lists with examples.\n",
        "\n",
        "\n",
        "![image.png](data:image/png;base64,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)"
      ],
      "metadata": {
        "id": "h7gmykc6Oycg"
      }
    },
    {
      "cell_type": "markdown",
      "source": [
        "Describe the following dictionary methods with an example.\n",
        "```python\n",
        "get( )\n",
        "Keys( )\n",
        "pop( )\n",
        "update( )\n",
        "values( )\n",
        "items( ).\n",
        "```\n",
        "`get()`\n",
        "```python\n",
        "d = {1:'a', 2:'b', 3:'c'}\n",
        "d.get(1) # returns a\n",
        "d.get(89,\"oooh\") #returns oooh\n",
        "\n",
        "```\n",
        "`keys()`\n",
        "```python\n",
        "my_dict = {\"name\": \"Alice\", \"age\": 30}\n",
        "keys = my_dict.keys()\n",
        "print(keys)  # Output: dict_keys(['name', 'age'])\n",
        "```\n",
        "| `pop(key, default=None)` |\n",
        "```python\n",
        "my_dict = {\"name\": \"Alice\", \"age\": 30}\n",
        "value = my_dict.pop(\"age\")\n",
        "print(value)  # Output: 30\n",
        "```\n",
        "| Removes and returns the value associated with the specified key. Optionally provides a default value if the key is not found.|\n",
        "\n",
        "| `update(other_dict)` |\n",
        "```python\n",
        "my_dict = {\"name\": \"Alice\"}\n",
        "my_dict.update({\"job\": \"Software Engineer\"})\n",
        "print(my_dict)  # Output: {'name': 'Alice', 'job': 'Software Engineer'}\n",
        "```\n",
        "| Updates the dictionary by adding key-value pairs from another dictionary (or iterable). |\n",
        "\n",
        "| `values()` |\n",
        " ```python\n",
        "my_dict = {\"name\": \"Alice\", \"age\": 30}\n",
        "values = my_dict.values()\n",
        "print(values)  # Output: dict_values(['Alice', 30])\n",
        "```\n",
        "| Returns a view of all values in the dictionary. |\n",
        "\n",
        "| `items()` |\n",
        "```python\n",
        "my_dict = {\"name\": \"Alice\", \"age\": 30}\n",
        "items = my_dict.items()\n",
        "print(items)  # Output: dict_items([('name', 'Alice'), ('age', 30)])\n",
        "```\n",
        "| Returns a view of all key-value pairs as tuples. |\n",
        "\n",
        "\n"
      ],
      "metadata": {
        "id": "kPJaXzT8O-i0"
      }
    },
    {
      "cell_type": "markdown",
      "source": [
        "###Compare tuples, lists, and dictionaries with examples. answer in markdown code\n",
        "```markdown\n",
        "### Tuples:\n",
        "- Tuples are immutable sequences, meaning their elements cannot be changed after creation.\n",
        "- They are defined using parentheses `()` and elements are separated by commas.\n",
        "- Tuples are typically used to store collections of heterogeneous data.\n",
        "- Tuples are faster than lists because they are immutable.\n",
        "\n",
        "**Example:**\n",
        "```python\n",
        "# Creating a tuple\n",
        "my_tuple = (1, 'hello', 3.14, True)\n",
        "\n",
        "# Accessing elements of a tuple\n",
        "print(my_tuple[0])  # Output: 1\n",
        "print(my_tuple[1])  # Output: hello\n",
        "\n",
        "# Cannot modify elements of a tuple\n",
        "# my_tuple[0] = 2  # This will raise an error\n",
        "```\n",
        "\n",
        "### Lists:\n",
        "- Lists are mutable sequences, meaning their elements can be changed after creation.\n",
        "- They are defined using square brackets `[]` and elements are separated by commas.\n",
        "- Lists are commonly used to store collections of homogeneous data.\n",
        "- Lists allow for dynamic resizing and manipulation of elements.\n",
        "\n",
        "**Example:**\n",
        "```python\n",
        "# Creating a list\n",
        "my_list = [1, 2, 3, 4]\n",
        "\n",
        "# Accessing elements of a list\n",
        "print(my_list[0])  # Output: 1\n",
        "print(my_list[1])  # Output: 2\n",
        "\n",
        "# Modifying elements of a list\n",
        "my_list[0] = 100\n",
        "print(my_list)  # Output: [100, 2, 3, 4]\n",
        "\n",
        "# Appending elements to a list\n",
        "my_list.append(5)\n",
        "print(my_list)  # Output: [100, 2, 3, 4, 5]\n",
        "```\n",
        "\n",
        "### Dictionaries:\n",
        "- Dictionaries are mutable collections of key-value pairs.\n",
        "- They are defined using curly braces `{}` with each key-value pair separated by a colon `:`.\n",
        "- Dictionaries are unordered, meaning the order of elements is not guaranteed.\n",
        "- Keys within a dictionary must be unique.\n",
        "\n",
        "**Example:**\n",
        "```python\n",
        "# Creating a dictionary\n",
        "my_dict = {'name': 'John', 'age': 30, 'city': 'New York'}\n",
        "\n",
        "# Accessing values using keys\n",
        "print(my_dict['name'])  # Output: John\n",
        "print(my_dict['age'])   # Output: 30\n",
        "\n",
        "# Modifying values\n",
        "my_dict['age'] = 35\n",
        "print(my_dict)  # Output: {'name': 'John', 'age': 35, 'city': 'New York'}\n",
        "\n",
        "# Adding new key-value pairs\n",
        "my_dict['job'] = 'Engineer'\n",
        "print(my_dict)  # Output: {'name': 'John', 'age': 35, 'city': 'New York', 'job': 'Engineer'}\n",
        "```\n",
        "```"
      ],
      "metadata": {
        "id": "LcWNyuotSVOc"
      }
    },
    {
      "cell_type": "markdown",
      "source": [
        "###Write Python code for the following statements\n",
        "writes the text ”PROGRAMMING IN Python” to a file with name code.txt\n",
        "\n",
        "then reads the text again and prints it to the screen.\n",
        "```python\n",
        "# i) Write text to a file\n",
        "with open('code.txt', 'w') as file:\n",
        "    file.write(\"PROGRAMMING IN Python\")\n",
        "\n",
        "# ii) Read text from the file and print it to the screen\n",
        "with open('code.txt', 'r') as file:\n",
        "    text = file.read()\n",
        "    print(text)\n",
        "\n",
        "```"
      ],
      "metadata": {
        "id": "fJdNuMEmS_kZ"
      }
    },
    {
      "cell_type": "markdown",
      "source": [
        "###Write a Python program to find n th term in a fibonacci series using recursion.\n",
        "```python\n",
        "def fibonacci(n):\n",
        "    if n <= 0:\n",
        "        return \"Invalid input. Please enter a positive integer.\"\n",
        "    elif n == 1:\n",
        "        return 0\n",
        "    elif n == 2:\n",
        "        return 1\n",
        "    else:\n",
        "        return fibonacci(n - 1) + fibonacci(n - 2)\n",
        "\n",
        "# Example usage\n",
        "n = int(input(\"Enter the value of n for Fibonacci series: \"))\n",
        "result = fibonacci(n)\n",
        "print(f\"The {n}th term in the Fibonacci series is: {result}\")\n",
        "\n",
        "```"
      ],
      "metadata": {
        "id": "sA_06NI8TWe8"
      }
    },
    {
      "cell_type": "markdown",
      "source": [
        "###Write a Python program to display the sum of n numbers using a list.\n",
        "```python\n",
        "numbers = []\n",
        "for i in range(n):\n",
        "    num = int(input(f\"Enter number {i+1}: \"))\n",
        "    numbers.append(num)\n",
        "    total = sum(numbers)\n",
        "    return total\n",
        "print(f\"The sum of {n} numbers is: {result}\")\n",
        "```"
      ],
      "metadata": {
        "id": "_6p2BXubTjPp"
      }
    },
    {
      "cell_type": "markdown",
      "source": [
        "###Write a Python program to check whether a given key already exists in a dictionary.\n",
        "```python\n",
        "my_dict = {'a': 1, 'b': 2, 'c': 3}\n",
        "key_to_check = input(\"Enter the key to check: \")\n",
        "\n",
        "if key in dictionary:\n",
        "        print(\"key exists\")\n",
        "else:\n",
        "        print(\"key not dound\")\"\n",
        "```"
      ],
      "metadata": {
        "id": "448s_HSaUS9Y"
      }
    },
    {
      "cell_type": "markdown",
      "source": [
        "###Write a Python script to merge two Python dictionaries.\n",
        "```python\n",
        "# Two dictionaries to be merged\n",
        "dict1 = {'a': 1, 'b': 2}\n",
        "dict2 = {'c': 3, 'd': 4}\n",
        "\n",
        "# Make a copy of the first dictionary to avoid modifying it\n",
        "merged_dict = dict1.copy()\n",
        "\n",
        "# Merge the second dictionary into the copy of the first one\n",
        "merged_dict.update(dict2)\n",
        "\n",
        "# Print the merged dictionary\n",
        "print(\"Merged dictionary:\", merged_dict)\n",
        "```"
      ],
      "metadata": {
        "id": "PoDdV2-OVHhn"
      }
    },
    {
      "cell_type": "markdown",
      "source": [
        "###Explain lambda function with an example.\n",
        "```python\n",
        "# A lambda function to multiply two numbers\n",
        "multiply = lambda x, y: x * y\n",
        "\n",
        "# Using the lambda function\n",
        "result = multiply(3, 4)\n",
        "print(\"Result of multiplication:\", result)  # Output: 12\n",
        "```"
      ],
      "metadata": {
        "id": "nrsSWnjnVtDa"
      }
    },
    {
      "cell_type": "markdown",
      "source": [
        "###answers\n",
        "1. Differentiate between the tuple and sets in Python.\n",
        "2. What is a dictionary? Explain the methods available in the dictionary.\n",
        "3. Compare tuples, lists, and dictionaries with examples.\n",
        "\n",
        "Tuple:\n",
        "\n",
        "    Mutability: Tuples are immutable, meaning their elements cannot be changed after creation.\n",
        "    Ordering: Tuples maintain the order of elements as they are defined.\n",
        "    Duplication: Tuples allow duplicate elements.\n",
        "    Syntax: Tuples are defined using parentheses () and elements are separated by commas.\n",
        "    # Defining a tuple\n",
        "    my_tuple = (1, 2, 3, 2)\n",
        "```python\n",
        "    # Accessing elements of a tuple\n",
        "    print(\"Tuple:\", my_tuple)              # Output: (1, 2, 3, 2)\n",
        "    print(\"First element:\", my_tuple[0])    # Output: 1\n",
        "    print(\"Last element:\", my_tuple[-1])    # Output: 2\n",
        "\n",
        "    # Tuples allow duplicates\n",
        "    print(\"Count of 2:\", my_tuple.count(2)) # Output: 2\n",
        "```\n",
        "\n",
        "Set:\n",
        "\n",
        "    Mutability: Sets are mutable, meaning you can add or remove elements after creation.\n",
        "    Ordering: Sets do not maintain the order of elements.\n",
        "    Duplication: Sets do not allow duplicate elements.\n",
        "    Syntax: Sets are defined using curly braces {} or by using the set() constructor.\n",
        "```python\n",
        "# Defining a set\n",
        "my_set = {1, 2, 3, 2}\n",
        "\n",
        "# Accessing elements of a set\n",
        "print(\"Set:\", my_set)       # Output: {1, 2, 3}\n",
        "\n",
        "# Sets do not allow duplicates\n",
        "print(\"Count of 2:\", my_set.count(2)) # AttributeError: 'set' object has no attribute 'count'\n",
        "\n",
        "# Adding elements to a set\n",
        "my_set.add(4)\n",
        "print(\"Set after adding 4:\", my_set)  # Output: {1, 2, 3, 4}\n",
        "\n",
        "```\n",
        "\n",
        "####What is a dictionary? Explain the methods available in the dictionary.\n",
        "```\n",
        "A dictionary in Python is an unordered collection of key-value pairs. Keys are unique within a dictionary, and each key is associated with a value. It is defined using curly braces `{}`.\n",
        "\n",
        "**Methods available in the dictionary:**\n",
        "1. `clear()`: Removes all elements from the dictionary.\n",
        "2. `copy()`: Returns a shallow copy of the dictionary.\n",
        "3. `get(key[, default])`: Returns the value for the specified key. If the key is not found, it returns the default value (which defaults to `None`).\n",
        "4. `items()`: Returns a view object that displays a list of key-value pairs in the dictionary.\n",
        "5. `keys()`: Returns a view object that displays a list of all the keys in the dictionary.\n",
        "6. `pop(key[, default])`: Removes and returns the value for the specified key. If the key is not found, it returns the default value or raises a `KeyError`.\n",
        "7. `update([other])`: Updates the dictionary with the key-value pairs from another dictionary or an iterable of key-value pairs.\n",
        "8. `values()`: Returns a view object that displays a list of all the values in the dictionary.\n",
        "\n",
        "These methods provide functionalities for adding, updating, accessing, and removing key-value pairs in dictionaries.\n",
        "```"
      ],
      "metadata": {
        "id": "LL1nhIqNV0nd"
      }
    },
    {
      "cell_type": "markdown",
      "source": [
        "###1.Write a Python program to get the last part of a string before a specified character.\n",
        "```python\n",
        "ss = input(\"enter string: \")\n",
        "index = -1\n",
        "character = input(\"enter character: \")\n",
        "for i in range(len(ss)):\n",
        "    if ss[i] == character:\n",
        "        index = i\n",
        "print(\"last part: \", ss[:index])\n",
        "\n",
        "```"
      ],
      "metadata": {
        "id": "XDzTpEvYXMhH"
      }
    },
    {
      "cell_type": "markdown",
      "source": [
        "###Write a Python program to sort a string lexicographically.\n",
        "```python\n",
        "ip_str = input(\"ENETR STRING TO SORT: \")\n",
        "print(\"SORTED STRING = \", sorted(ip_str))\n",
        "```"
      ],
      "metadata": {
        "id": "s7FTxQvTYi94"
      }
    },
    {
      "cell_type": "markdown",
      "source": [
        "###Write a Python program to search a given element in a list.\n",
        "```python\n",
        "lis = [11,3,45,21,244,66]\n",
        "key = int(input(\"enter key: \"))\n",
        "if key in lis:\n",
        "    print(\"found\")\n",
        "else:\n",
        "    print( key,\" not found\")\n",
        "```\n",
        "###linear search\n",
        "```python\n",
        "for i in range(len(lis)):\n",
        "  if(lsi[i] == key):\n",
        "    print(\"key found at index\", i+1)\n",
        "    return None\n",
        "print(\"key not found :(\")\n",
        "```"
      ],
      "metadata": {
        "id": "4iijqO-3Y-NP"
      }
    }
  ]
}
